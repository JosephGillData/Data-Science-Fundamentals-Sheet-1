{
 "cells": [
  {
   "cell_type": "code",
   "execution_count": 1,
   "metadata": {
    "deletable": false,
    "editable": false,
    "nbgrader": {
     "cell_type": "code",
     "checksum": "41a0a85422cbc4a4e0b09090ee9cea4f",
     "grade": false,
     "grade_id": "cell-830793d1a48b7f1f",
     "locked": true,
     "schema_version": 3,
     "solution": false,
     "task": false
    }
   },
   "outputs": [],
   "source": [
    "%matplotlib inline\n",
    "import matplotlib.pyplot as plt\n",
    "\n",
    "import numpy as np\n",
    "import pandas as pd"
   ]
  },
  {
   "cell_type": "markdown",
   "metadata": {
    "deletable": false,
    "editable": false,
    "nbgrader": {
     "cell_type": "markdown",
     "checksum": "754fbe491ccdde9d89112fc24cb75200",
     "grade": false,
     "grade_id": "cell-830793d1a48b7f11",
     "locked": true,
     "schema_version": 3,
     "solution": false,
     "task": false
    }
   },
   "source": [
    "# Part 1 (40 marks)\n",
    "\n",
    "**Aim:** Show competence in using the `pandas` library, in particular when managing missing values. \n",
    "\n",
    "In the following you are asked to analyze a real world dataset. The data available here has been used in the following article: https://fivethirtyeight.com/features/how-americans-like-their-steak/\n",
    "\n",
    "The data contains missing values and some entries need to be cleaned up.\n",
    "\n",
    "In this exercise you will use the pandas library to create functions to help processing this dataset and extract some insight in the data.  "
   ]
  },
  {
   "cell_type": "markdown",
   "metadata": {
    "deletable": false,
    "editable": false,
    "nbgrader": {
     "cell_type": "markdown",
     "checksum": "cd922f9275f8c46655808a7e3c825723",
     "grade": false,
     "grade_id": "cell-ed0008320de79582",
     "locked": true,
     "schema_version": 3,
     "solution": false,
     "task": false
    }
   },
   "source": [
    "## Question 1.1 (2 marks)\n",
    "\n",
    "Create a data frame `df` from the file 'steak-risk-survey_clean.csv' using `RespondentID` as index."
   ]
  },
  {
   "cell_type": "code",
   "execution_count": 2,
   "metadata": {
    "deletable": false,
    "nbgrader": {
     "cell_type": "code",
     "checksum": "4ff401138f4e58ff2b0be1521ee27cf0",
     "grade": false,
     "grade_id": "cell-2038f41fd76f3ef4",
     "locked": false,
     "schema_version": 3,
     "solution": true,
     "task": false
    }
   },
   "outputs": [],
   "source": [
    "file_name = 'steak-risk-survey_clean.csv'\n",
    "\n",
    "df = pd.read_csv(file_name)\n",
    "df.set_index('RespondentID', inplace=True)"
   ]
  },
  {
   "cell_type": "code",
   "execution_count": 3,
   "metadata": {
    "deletable": false,
    "editable": false,
    "nbgrader": {
     "cell_type": "code",
     "checksum": "d11f3d04b95c5a385572dc8baf21625a",
     "grade": true,
     "grade_id": "cell-3bc3c3a1471ee0b4",
     "locked": true,
     "points": 2,
     "schema_version": 3,
     "solution": false,
     "task": false
    }
   },
   "outputs": [],
   "source": [
    "# This cell is reserved for the unit tests. Do not consider this cell. "
   ]
  },
  {
   "cell_type": "markdown",
   "metadata": {
    "deletable": false,
    "editable": false,
    "nbgrader": {
     "cell_type": "markdown",
     "checksum": "0831700994b69fab667562c9d981cbb3",
     "grade": false,
     "grade_id": "cell-9baef2d51c29088a",
     "locked": true,
     "schema_version": 3,
     "solution": false,
     "task": false
    }
   },
   "source": [
    "## Question 1.2 (2 marks)\n",
    "\n",
    "Make a function `patch(df)` that takes in input the dataframe `df` created from the file 'steak-risk-survey_clean.csv', and returns a dataframe where for those people that have answered 'No' to the question 'Do you eat steak?' the entries in the column `How do you like your steak prepared?` are replaced with the value 'No'."
   ]
  },
  {
   "cell_type": "code",
   "execution_count": 4,
   "metadata": {
    "deletable": false,
    "nbgrader": {
     "cell_type": "code",
     "checksum": "77a14377fb9ddada3c4b188389486966",
     "grade": false,
     "grade_id": "cell-7d3675f457e3d4db",
     "locked": false,
     "schema_version": 3,
     "solution": true,
     "task": false
    }
   },
   "outputs": [],
   "source": [
    "def patch(df):\n",
    "    df2 = df.copy()\n",
    "    df2.loc[df2['Do you eat steak?'] == 'No', 'How do you like your steak prepared?'] = 'No'\n",
    "    return df2"
   ]
  },
  {
   "cell_type": "code",
   "execution_count": 5,
   "metadata": {
    "deletable": false,
    "editable": false,
    "nbgrader": {
     "cell_type": "code",
     "checksum": "6e6c4f2303e5ee754cf63ee826e5ed8e",
     "grade": true,
     "grade_id": "cell-35ced2f5cdab8543",
     "locked": true,
     "points": 2,
     "schema_version": 3,
     "solution": false,
     "task": false
    }
   },
   "outputs": [],
   "source": [
    "# This cell is reserved for the unit tests. Do not consider this cell. "
   ]
  },
  {
   "cell_type": "markdown",
   "metadata": {
    "deletable": false,
    "editable": false,
    "nbgrader": {
     "cell_type": "markdown",
     "checksum": "fa519f8ca99c044560c6c107b0fa60a0",
     "grade": false,
     "grade_id": "cell-2a13ad40e88c686c",
     "locked": true,
     "schema_version": 3,
     "solution": false,
     "task": false
    }
   },
   "source": [
    "## Question 1.3 (5 marks)\n",
    "\n",
    "Make a function `remove_rows_with_excess_of_missing(df, cutoff)` that returns a data frame where the rows with a number greater or equal to `cutoff` missing values have been removed."
   ]
  },
  {
   "cell_type": "code",
   "execution_count": 52,
   "metadata": {
    "deletable": false,
    "nbgrader": {
     "cell_type": "code",
     "checksum": "dca5daf1a5197c7f723ecbd7b4f4acc0",
     "grade": false,
     "grade_id": "cell-477babb63f81e7af",
     "locked": false,
     "schema_version": 3,
     "solution": true,
     "task": false
    }
   },
   "outputs": [],
   "source": [
    "def remove_rows_with_excess_of_missing(df, cutoff):\n",
    "    df2 = df.copy()\n",
    "    df2 = df2[df2.isnull().sum(axis=1) < cutoff]\n",
    "    return df2"
   ]
  },
  {
   "cell_type": "code",
   "execution_count": 53,
   "metadata": {
    "deletable": false,
    "editable": false,
    "nbgrader": {
     "cell_type": "code",
     "checksum": "e107c473056e91aaac0e5cdad586809c",
     "grade": true,
     "grade_id": "cell-f7bbf5b9e103bc6e",
     "locked": true,
     "points": 5,
     "schema_version": 3,
     "solution": false,
     "task": false
    }
   },
   "outputs": [],
   "source": [
    "# This cell is reserved for the unit tests. Do not consider this cell. "
   ]
  },
  {
   "cell_type": "markdown",
   "metadata": {
    "deletable": false,
    "editable": false,
    "nbgrader": {
     "cell_type": "markdown",
     "checksum": "e077a99569c557ac3a1ef19b48ce170a",
     "grade": false,
     "grade_id": "cell-b3d1f89c6e0c7b73",
     "locked": true,
     "schema_version": 3,
     "solution": false,
     "task": false
    }
   },
   "source": [
    "## Question 1.4 (4 marks)\n",
    "\n",
    "Make a function `select_rows_with_missing(df)` to extract the dataframe's rows that contain missing values. "
   ]
  },
  {
   "cell_type": "code",
   "execution_count": 54,
   "metadata": {
    "deletable": false,
    "nbgrader": {
     "cell_type": "code",
     "checksum": "2b54f8b8c390cf240f64abf0647c7f16",
     "grade": false,
     "grade_id": "cell-ed30d84530597e96",
     "locked": false,
     "schema_version": 3,
     "solution": true,
     "task": false
    }
   },
   "outputs": [],
   "source": [
    "def select_rows_with_missing(df):\n",
    "    df2 = df[df.isnull().any(axis=1)]\n",
    "    return(df2)"
   ]
  },
  {
   "cell_type": "code",
   "execution_count": 55,
   "metadata": {
    "deletable": false,
    "editable": false,
    "nbgrader": {
     "cell_type": "code",
     "checksum": "4c15ad766c3c59b573cad9ff5d62c9a8",
     "grade": true,
     "grade_id": "cell-583de7469d757fa0",
     "locked": true,
     "points": 4,
     "schema_version": 3,
     "solution": false,
     "task": false
    }
   },
   "outputs": [],
   "source": [
    "# This cell is reserved for the unit tests. Do not consider this cell. "
   ]
  },
  {
   "cell_type": "markdown",
   "metadata": {},
   "source": [
    "## Question 1.5 (5 marks)\n",
    "\n",
    "Make a function `replace_content(df, col, to_be_replaced, replacement)` to replace the occurrence of the string `to_be_replaced` with the string `replacement` for all rows in a specified column `col`.\n",
    "\n",
    "Use the function to replace `&gt; 60` with `60+` in column `Age`, and `Lottery A` with `risk yes` and `Lottery B` with `risk no` in column `Lottery Type`.\n",
    "\n",
    "*Note: Search the documentation of the pandas library to find how to replace text.*"
   ]
  },
  {
   "cell_type": "code",
   "execution_count": 65,
   "metadata": {
    "deletable": false,
    "nbgrader": {
     "cell_type": "code",
     "checksum": "f5b206b76855dc9025469190db01d632",
     "grade": false,
     "grade_id": "cell-533c2d9bb37e0939",
     "locked": false,
     "schema_version": 3,
     "solution": true,
     "task": false
    }
   },
   "outputs": [],
   "source": [
    "def replace_content(df, col, to_be_replaced, replacement):\n",
    "    df2 = df.replace({col: to_be_replaced}, {col: replacement})\n",
    "    return df2\n",
    "    \n",
    "# perform here the replacements as instructed in the Question text   \n",
    "file_name = 'steak-risk-survey_clean.csv'\n",
    "df = pd.read_csv(file_name)\n",
    "df.set_index('RespondentID', inplace=True)\n",
    "\n",
    "df = replace_content(df, 'Age', '&gt; 60', '60+')\n",
    "df = replace_content(df, 'Lottery Type', 'Lottery A', 'risk yes')\n",
    "df = replace_content(df, 'Lottery Type', 'Lottery B', 'risk no')"
   ]
  },
  {
   "cell_type": "code",
   "execution_count": 57,
   "metadata": {
    "deletable": false,
    "editable": false,
    "nbgrader": {
     "cell_type": "code",
     "checksum": "a62789d2129f08a389720b8c6447e815",
     "grade": true,
     "grade_id": "cell-1921a9c3931b0214",
     "locked": true,
     "points": 5,
     "schema_version": 3,
     "solution": false,
     "task": false
    }
   },
   "outputs": [],
   "source": [
    "# This cell is reserved for the unit tests. Do not consider this cell. "
   ]
  },
  {
   "cell_type": "markdown",
   "metadata": {
    "deletable": false,
    "editable": false,
    "nbgrader": {
     "cell_type": "markdown",
     "checksum": "13ac9231c3c67c2b9b86155c6e8dd442",
     "grade": false,
     "grade_id": "cell-51041364917c1b81",
     "locked": true,
     "schema_version": 3,
     "solution": false,
     "task": false
    }
   },
   "source": [
    "## Question 1.6 (4 marks)\n",
    "\n",
    "Make a function `find_k_most_similar(df, record_id, k)` that takes in input a dataframe `df`, the label of a row `record_id` and a parameter `k` and returns a dataframe that contains the k rows in `df` that have the largest number of entries in common (i.e. that match exactly) with the record with index `record_id` (this should include also the instance with label `record_id`). "
   ]
  },
  {
   "cell_type": "code",
   "execution_count": 58,
   "metadata": {
    "deletable": false,
    "nbgrader": {
     "cell_type": "code",
     "checksum": "f7e567c5e4de54274dd1a2cbe14082d7",
     "grade": false,
     "grade_id": "cell-2c5dc6bc5bdc12f8",
     "locked": false,
     "schema_version": 3,
     "solution": true,
     "task": false
    }
   },
   "outputs": [],
   "source": [
    "def find_k_most_similar(df, record_id, k):\n",
    "    a = df.loc[record_id]\n",
    "    df2 = df[(df==a)].count(axis=1)\n",
    "    common_rows = df2.nlargest(k).index\n",
    "    df3 = df.loc[common_rows]\n",
    "    return df3"
   ]
  },
  {
   "cell_type": "code",
   "execution_count": 59,
   "metadata": {
    "deletable": false,
    "editable": false,
    "nbgrader": {
     "cell_type": "code",
     "checksum": "96c8c095a7168e68ef817f2b5412694e",
     "grade": true,
     "grade_id": "cell-a3123fa65e4874ec",
     "locked": true,
     "points": 4,
     "schema_version": 3,
     "solution": false,
     "task": false
    }
   },
   "outputs": [],
   "source": [
    "# This cell is reserved for the unit tests. Do not consider this cell. "
   ]
  },
  {
   "cell_type": "markdown",
   "metadata": {
    "deletable": false,
    "editable": false,
    "nbgrader": {
     "cell_type": "markdown",
     "checksum": "389414c7135c4a3cda2b8b69316ed4a0",
     "grade": false,
     "grade_id": "cell-167ec6d60d358bd3",
     "locked": true,
     "schema_version": 3,
     "solution": false,
     "task": false
    }
   },
   "source": [
    "## Question 1.7 (8 marks)\n",
    "\n",
    "Make a function `replace_missing(df, k)` that takes in input a data frame `df` and a parameter `k` and returns a dataframe where the missing elements in `df` have been replaced by the corresponding element in the k most similar records that appears most often. \n",
    "\n",
    "You may use of the functions you have previously defined. "
   ]
  },
  {
   "cell_type": "code",
   "execution_count": 60,
   "metadata": {
    "deletable": false,
    "nbgrader": {
     "cell_type": "code",
     "checksum": "2d0bd00b8aec523a67a16988de3f171b",
     "grade": false,
     "grade_id": "cell-12512e9924337e4e",
     "locked": false,
     "schema_version": 3,
     "solution": true,
     "task": false
    }
   },
   "outputs": [],
   "source": [
    "def replace_missing(df, k):\n",
    "    df1 = df.copy()\n",
    "    for ind, row in df1.iterrows(): # Here we iterate over the each row and index of df1\n",
    "        df1.loc[ind] = df1.loc[ind].fillna(find_k_most_similar(df1, ind, k).mode().loc[0])\n",
    "    return df1"
   ]
  },
  {
   "cell_type": "code",
   "execution_count": 61,
   "metadata": {
    "deletable": false,
    "editable": false,
    "nbgrader": {
     "cell_type": "code",
     "checksum": "ba0b9d5e3614b42cdb9170b9b39edab8",
     "grade": true,
     "grade_id": "cell-fa2b8fc9b0154836",
     "locked": true,
     "points": 8,
     "schema_version": 3,
     "solution": false,
     "task": false
    }
   },
   "outputs": [],
   "source": [
    "# This cell is reserved for the unit tests. Do not consider this cell. "
   ]
  },
  {
   "cell_type": "markdown",
   "metadata": {
    "deletable": false,
    "editable": false,
    "nbgrader": {
     "cell_type": "markdown",
     "checksum": "c1011189307d5a9bcec76501c0ef37f7",
     "grade": false,
     "grade_id": "cell-f5d0aa854aa6df8a",
     "locked": true,
     "schema_version": 3,
     "solution": false,
     "task": false
    }
   },
   "source": [
    "## Question 1.8 (9 marks)\n",
    "\n",
    "Make a function `select(df, col1, col2)` that takes a data frame and two column labels and outputs a multi indexed Series with the fraction of occurrences of possible values of `col2` given the values of `col1`. \n",
    "\n",
    "For example `select(df_test, 'Do you ever gamble?', 'Lottery Type')` would yield\n",
    "```\n",
    "Do you ever gamble?  Lottery Type:\n",
    "No                   risk yes        0.433099\n",
    "                     risk no         0.566901\n",
    "Yes                  risk yes        0.548872\n",
    "                     risk no         0.451128\n",
    "```\n",
    "Note that the sum of Lottery Type:risk yes + Lottery Type:risk no is 1.0."
   ]
  },
  {
   "cell_type": "code",
   "execution_count": 66,
   "metadata": {
    "deletable": false,
    "nbgrader": {
     "cell_type": "code",
     "checksum": "1e6e46a0607cd108e9bb8592428961d2",
     "grade": false,
     "grade_id": "cell-2cbc72942d8b5817",
     "locked": false,
     "schema_version": 3,
     "solution": true,
     "task": false
    }
   },
   "outputs": [],
   "source": [
    "def select(df, col1, col2):\n",
    "    grouped = df.groupby([col1, col2])\n",
    "    dfg = grouped.count().astype(float)\n",
    "    dfg = dfg.sum(axis=1)\n",
    "    tot01 = dfg[0]+dfg[1]\n",
    "    dfg[0] = dfg[0]/tot01\n",
    "    dfg[1] = dfg[1]/tot01\n",
    "    tot23 = dfg[2]+dfg[3]\n",
    "    dfg[2] = dfg[2]/tot23\n",
    "    dfg[3] = dfg[3]/tot23\n",
    "    dfg\n",
    "    return dfg"
   ]
  },
  {
   "cell_type": "code",
   "execution_count": 39,
   "metadata": {
    "deletable": false,
    "editable": false,
    "nbgrader": {
     "cell_type": "code",
     "checksum": "1a6bbd6bc4dd804b54dedf33af081b68",
     "grade": true,
     "grade_id": "cell-ceb11f7207b30450",
     "locked": true,
     "points": 5,
     "schema_version": 3,
     "solution": false,
     "task": false
    }
   },
   "outputs": [],
   "source": [
    "# This cell is reserved for the unit tests. Do not consider this cell. "
   ]
  },
  {
   "cell_type": "code",
   "execution_count": 40,
   "metadata": {
    "deletable": false,
    "editable": false,
    "nbgrader": {
     "cell_type": "code",
     "checksum": "81123df5b4ab982fa05f554e69100e61",
     "grade": true,
     "grade_id": "cell-77c83bc65e78dbc1",
     "locked": true,
     "points": 4,
     "schema_version": 3,
     "solution": false,
     "task": false
    }
   },
   "outputs": [],
   "source": [
    "# This cell is reserved for the unit tests. Do not consider this cell. "
   ]
  },
  {
   "cell_type": "markdown",
   "metadata": {
    "deletable": false,
    "editable": false,
    "nbgrader": {
     "cell_type": "markdown",
     "checksum": "8f30e16073095602f6eefd4fb4388c1d",
     "grade": false,
     "grade_id": "cell-dc7329c17bff07ed",
     "locked": true,
     "schema_version": 3,
     "solution": false,
     "task": false
    }
   },
   "source": [
    "## Question 1.9 (1 mark)\n",
    "\n",
    "Make a function `plot_selection(df, col1, col2)` that plots the output of `select(df, col1, col2)` like this:\n",
    "\n",
    "<img src='plot_selection.png' width=\"300\">"
   ]
  },
  {
   "cell_type": "code",
   "execution_count": 67,
   "metadata": {
    "deletable": false,
    "nbgrader": {
     "cell_type": "code",
     "checksum": "cc688dd6ba9ddcda8fcec011bbe990be",
     "grade": false,
     "grade_id": "cell-fca96ec4cf045bf5",
     "locked": false,
     "schema_version": 3,
     "solution": true,
     "task": false
    }
   },
   "outputs": [],
   "source": [
    "def plot_selection(df, col1, col2):\n",
    "    dfg = select(df, col1, col2)\n",
    "    dfg.plot(kind='bar', subplots=False)\n",
    "    return plt.show()"
   ]
  },
  {
   "cell_type": "code",
   "execution_count": 72,
   "metadata": {
    "deletable": false,
    "nbgrader": {
     "cell_type": "code",
     "checksum": "2bf922fda2d0c952a3c09c4daa2452cd",
     "grade": true,
     "grade_id": "cell-86731cde2ea5bace",
     "locked": false,
     "points": 1,
     "schema_version": 3,
     "solution": true,
     "task": false
    }
   },
   "outputs": [
    {
     "data": {
      "image/png": "[encoded data removed]",
      "text/plain": [
       "<Figure size 432x288 with 1 Axes>"
      ]
     },
     "metadata": {
      "needs_background": "light"
     },
     "output_type": "display_data"
    }
   ],
   "source": [
    "# create a data frame from the file steak-risk-survey_clean.csv and run your plot_selection function \n",
    "# on the columns 'Do you ever drink alcohol?' and 'Do you ever smoke cigarettes?'\n",
    "\n",
    "df = pd.read_csv('steak-risk-survey_clean.csv')\n",
    "plot_selection(df,'Do you ever drink alcohol?','Do you ever smoke cigarettes?')"
   ]
  },
  {
   "cell_type": "markdown",
   "metadata": {
    "deletable": false,
    "editable": false,
    "nbgrader": {
     "cell_type": "markdown",
     "checksum": "f028e1e61b142561042c058a8d97a557",
     "grade": false,
     "grade_id": "cell-fe959eef4908c10d",
     "locked": true,
     "schema_version": 3,
     "solution": false,
     "task": false
    }
   },
   "source": [
    "# Part 2 (30 marks)\n",
    "\n",
    "**Aim:** Show competence in using the `numpy` library, in particular when managing two dimensional arrays.\n",
    "\n",
    "This exercise is based on the famous \"Conway game\". The game takes place on a two-dimensional grid consisting of \"living\" and \"dead\" cells, and the rules to step from generation to generation are as follows:\n",
    "\n",
    "- **Overpopulation:** if a living cell is surrounded by more than three living cells, it dies.\n",
    "- **Stasis:** if a living cell is surrounded by two or three living cells, it survives.\n",
    "- **Underpopulation:** if a living cell is surrounded by fewer than two living cells, it dies.\n",
    "- **Reproduction:** if a dead cell is surrounded by exactly three cells, it becomes a live cell.\n",
    "\n",
    "In this exercise you are asked to implement the two-dimensional grid using a numpy two dimensional array and to implement the necessary functions to execute the rules of the game. \n",
    "\n",
    "**Note:**\n",
    "\n",
    "The notion of the game boundaries requires extra attention. There are two possibilities:\n",
    "1. the boundaries are \"hard\" and cannot be traversed\n",
    "2. the boundaries are \"wrapped\" and can be traversed \n",
    "\n",
    "In the \"wrapped\" case we can have:\n",
    "1. both left-right and top-bottom are wrapped (toroidal geometry)\n",
    "2. only one of the axis is wrapped and the other is not (cylindrical geometry)\n",
    "\n",
    "In this exercise, for semplicity, you are asked to implement a cylindrical geometry, specifically the grid wraps from left to right but not from top to bottom.\n",
    "\n",
    "The meaning of being \"wrapped\" is as follows: suppose you have a 5 by 5 grid, suppose we are wrapping axis 1, then moving left to right means increasing the index along axis 1. Consider the first row, cell (0,0) is at the top left corner of the grid, cell (0,4) is at the top right of the grid, cell (0,5) is at the same position of cell (0,0) as we have wrapped axis 1, cell (0,6) is at the same position of cell (0,1), etc. \n",
    "\n",
    "<img src=\"wrap.png\" width=300>"
   ]
  },
  {
   "cell_type": "code",
   "execution_count": 6,
   "metadata": {},
   "outputs": [],
   "source": [
    "import matplotlib.pyplot as plt\n",
    "from matplotlib import colors\n",
    "import math"
   ]
  },
  {
   "cell_type": "markdown",
   "metadata": {
    "deletable": false,
    "editable": false,
    "nbgrader": {
     "cell_type": "markdown",
     "checksum": "32941c4399dda16fb3e15a41ce4cd81a",
     "grade": false,
     "grade_id": "cell-a5b4781f3b146d59",
     "locked": true,
     "schema_version": 3,
     "solution": false,
     "task": false
    }
   },
   "source": [
    "## Question 2.1 (5 marks)\n",
    "\n",
    "Make a function `plot_list(Xs, n_per_row)` that takes in input a list of numpy 2-dimensional arrays and a parameter `n_per_row` to set the number of elements display in a single row. \n",
    "\n",
    "The output associated to the following list of 4 arrays should be as indicated in the figure below.\n",
    "\n",
    "```\n",
    "Xs =[\n",
    "[[1 0 0 0]\n",
    " [1 0 0 0]\n",
    " [0 0 0 0]\n",
    " [0 0 0 0]]\n",
    ",\n",
    "[[0 0 0 0]\n",
    " [0 0 0 0]\n",
    " [0 1 0 0]\n",
    " [0 1 0 0]]\n",
    ",\n",
    "[[0 0 1 1]\n",
    " [0 0 0 0]\n",
    " [0 0 0 0]\n",
    " [0 0 0 0]]\n",
    ",\n",
    "[[0 0 0 0]\n",
    " [0 0 0 0]\n",
    " [0 0 0 0]\n",
    " [0 0 1 1]]\n",
    "]\n",
    "```\n",
    "`plot_list(Xs, n_per_row=2)`\n",
    "<img src=\"plot.png\" width=300>"
   ]
  },
  {
   "cell_type": "code",
   "execution_count": 7,
   "metadata": {
    "deletable": false,
    "nbgrader": {
     "cell_type": "code",
     "checksum": "26f5a7982754eaff9cd00cee040b69d5",
     "grade": false,
     "grade_id": "cell-8b38430d6a80ad8b",
     "locked": false,
     "schema_version": 3,
     "solution": true,
     "task": false
    }
   },
   "outputs": [],
   "source": [
    "def plot_list(Xs, n_per_row=5):\n",
    "    num_plots = len(Xs)\n",
    "    n_per_column = math.ceil(num_plots/n_per_row)\n",
    "    f = plt.figure(figsize=(3*n_per_row,3*n_per_column))\n",
    "    for i in range(0,num_plots):\n",
    "        plt.subplot(n_per_column,n_per_row,i+1)\n",
    "        plt.pcolor(Xs[i][::-1],cmap='binary',edgecolors='lightgrey', linewidths=2)\n",
    "        ax = plt.gca()\n",
    "        ax.axes.xaxis.set_visible(False)\n",
    "        ax.axes.yaxis.set_visible(False)\n",
    "    return plt.show()"
   ]
  },
  {
   "cell_type": "code",
   "execution_count": 76,
   "metadata": {
    "deletable": false,
    "nbgrader": {
     "cell_type": "code",
     "checksum": "bef982cf51302ddcb0046da4a19b99e5",
     "grade": true,
     "grade_id": "cell-230d840da19e766e",
     "locked": false,
     "points": 5,
     "schema_version": 3,
     "solution": true,
     "task": false
    }
   },
   "outputs": [
    {
     "data": {
      "image/png": "[encoded data removed]",
      "text/plain": [
       "<Figure size 432x432 with 4 Axes>"
      ]
     },
     "metadata": {
      "needs_background": "light"
     },
     "output_type": "display_data"
    }
   ],
   "source": [
    "# Create the list of grids data Xs as instructed in the Question text.\n",
    "Xs =[[[1,0,0,0],\n",
    "      [1,0,0,0],\n",
    "      [0,0,0,0],\n",
    "      [0,0,0,0]],\n",
    "     [[0,0,0,0],\n",
    "      [0,0,0,0],\n",
    "      [0,1,0,0],\n",
    "      [0,1,0,0]],\n",
    "     [[0,0,1,1],\n",
    "      [0,0,0,0],\n",
    "      [0,0,0,0],\n",
    "      [0,0,0,0]],\n",
    "     [[0,0,0,0],\n",
    "      [0,0,0,0],\n",
    "      [0,0,0,0],\n",
    "      [0,0,1,1]]]\n",
    "\n",
    "# leave the following function call as it is, as its output is going to be judged in the evaluation\n",
    "plot_list(Xs, n_per_row=2)"
   ]
  },
  {
   "cell_type": "markdown",
   "metadata": {
    "deletable": false,
    "editable": false,
    "nbgrader": {
     "cell_type": "markdown",
     "checksum": "e7ce071f85293b0936a329822574fe98",
     "grade": false,
     "grade_id": "cell-cc335992b847afa5",
     "locked": true,
     "schema_version": 3,
     "solution": false,
     "task": false
    }
   },
   "source": [
    "## Question 2.2 (6 marks)\n",
    "\n",
    "Make a function `make_initial_configuration(nrows, ncols, border_width, sparsity)` to generate an initial random grid. The function takes in input the number of rows `nrows`, the number of columns `ncols`, the number of cells from the border where it is guaranteed that no 'alive' cell will be placed, and a real value between 0 and 1 `sparsity` that indicates the fraction of cells that are not alive. This fraction does not need to be exact but should be approximately correct, i.e. a few alive cells more or less are tolerated, but if sparsity is 0.9 it is expected that most of the cells will be not alive.\n",
    "\n",
    "For a 10x10 grid, with border=2 and sparsity values of 0.1, 0.5, 0.7, 0.9 you should get something like this:\n",
    "\n",
    "<img src=\"sparse.png\" width=300>"
   ]
  },
  {
   "cell_type": "code",
   "execution_count": 121,
   "metadata": {
    "deletable": false,
    "nbgrader": {
     "cell_type": "code",
     "checksum": "bf8034f57a9c6ebe3ddf3a8fdda27b37",
     "grade": false,
     "grade_id": "cell-7a4d10c1965e21d5",
     "locked": false,
     "schema_version": 3,
     "solution": true,
     "task": false
    }
   },
   "outputs": [
    {
     "data": {
      "image/png": "[encoded data removed]",
      "text/plain": [
       "<Figure size 216x216 with 1 Axes>"
      ]
     },
     "metadata": {
      "needs_background": "light"
     },
     "output_type": "display_data"
    }
   ],
   "source": [
    "def make_initial_configuration(nrows=40, ncols=40, border_width=10, sparsity=0.8):\n",
    "    A = np.array(np.random.choice(np.arange(2), p=[sparsity,1-sparsity], size=(nrows,ncols)))\n",
    "    if border_width == 0:\n",
    "        A = A\n",
    "    else:\n",
    "        A[0:border_width] = '0'\n",
    "        A[-border_width:] = '0'\n",
    "        A[:,0:border_width] = '0'\n",
    "        A[:,-border_width:] = '0'\n",
    "    f = plt.figure(figsize=(3,3))\n",
    "    plt.pcolor(A[::-1],cmap='binary',edgecolors='lightgrey', linewidths=2)\n",
    "    ax = plt.gca()\n",
    "    ax.axes.xaxis.set_visible(False)\n",
    "    ax.axes.yaxis.set_visible(False)\n",
    "    return plt.show()\n",
    "\n",
    "make_initial_configuration(nrows=10, ncols=10, border_width=2, sparsity=0.5)"
   ]
  },
  {
   "cell_type": "code",
   "execution_count": 48,
   "metadata": {
    "deletable": false,
    "editable": false,
    "nbgrader": {
     "cell_type": "code",
     "checksum": "f03c8cc90fcaffdcb32471242e016881",
     "grade": true,
     "grade_id": "cell-85a876bf2cf7e014",
     "locked": true,
     "points": 6,
     "schema_version": 3,
     "solution": false,
     "task": false
    }
   },
   "outputs": [],
   "source": [
    "# This cell is reserved for the unit tests. Do not consider this cell. "
   ]
  },
  {
   "cell_type": "markdown",
   "metadata": {
    "deletable": false,
    "editable": false,
    "nbgrader": {
     "cell_type": "markdown",
     "checksum": "01f521953c54749b2108f9fc0e16ea00",
     "grade": false,
     "grade_id": "cell-5e78b68547b2efd4",
     "locked": true,
     "schema_version": 3,
     "solution": false,
     "task": false
    }
   },
   "source": [
    "## Question 2.3 (8 marks)\n",
    "\n",
    "Make a function `extract(X, i, j, s)` that extracts a neighborhood sub-array of `X` with center `i,j` and radius `s`. The function should wrap around axis 1. \n",
    "To understand what a neighborhood sub-array of `X` with center `i,j` and radius `s` is, consider the following example: \n",
    "\n",
    "given the array X\n",
    "```\n",
    "[[ 0  1  2  3  4]\n",
    " [ 5  6  7  8  9]\n",
    " [10 11 12 13 14]\n",
    " [15 16 17 18 19]\n",
    " [20 21 22 23 24]]\n",
    "```\n",
    "when you apply `extract(X,2,4,s=1)` you should obtain:\n",
    "```\n",
    "[[ 8  9  5]\n",
    " [13 14 10]\n",
    " [18 19 15]]\n",
    "```\n",
    "when you apply `extract(X,2,0,s=1)` you should obtain:\n",
    "```\n",
    "[[ 9  5  6]\n",
    " [14 10 11]\n",
    " [19 15 16]]\n",
    "```\n",
    "The function should be efficient and work for any value of `s`. If the neighborhood sub-array does not fit in the grid even when considering wrapping around axis 1, then you should raise an error. "
   ]
  },
  {
   "cell_type": "code",
   "execution_count": 122,
   "metadata": {
    "deletable": false,
    "nbgrader": {
     "cell_type": "code",
     "checksum": "3f4a030e51d4141b79f860b9a8faf4ca",
     "grade": false,
     "grade_id": "cell-d898ea3601a388c9",
     "locked": false,
     "schema_version": 3,
     "solution": true,
     "task": false
    }
   },
   "outputs": [],
   "source": [
    "def extract(X,i,j,s=1):\n",
    "    if i-s<0 or i+(s+1)>len(X):\n",
    "        neighbourhood = 'error'\n",
    "    else:\n",
    "        indicesi = range(i-s,i+(s+1))\n",
    "        indicesj = range(j-s,j+(s+1))\n",
    "        neighbourhood = X.take(indicesj,axis=1,mode='wrap').take(indicesi,axis=0)\n",
    "    return neighbourhood"
   ]
  },
  {
   "cell_type": "code",
   "execution_count": 123,
   "metadata": {
    "deletable": false,
    "editable": false,
    "nbgrader": {
     "cell_type": "code",
     "checksum": "2e26f308ae9c3b518c2df5afecaf7a35",
     "grade": true,
     "grade_id": "cell-fed01b717a099cb7",
     "locked": true,
     "points": 4,
     "schema_version": 3,
     "solution": false,
     "task": false
    }
   },
   "outputs": [],
   "source": [
    "# This cell is reserved for the unit tests. Do not consider this cell. "
   ]
  },
  {
   "cell_type": "code",
   "execution_count": 124,
   "metadata": {
    "deletable": false,
    "editable": false,
    "nbgrader": {
     "cell_type": "code",
     "checksum": "540ba8b73c5ebc49a0c1432ca45cb9bd",
     "grade": true,
     "grade_id": "cell-1038e6a7b77833d6",
     "locked": true,
     "points": 1,
     "schema_version": 3,
     "solution": false,
     "task": false
    }
   },
   "outputs": [],
   "source": [
    "# This cell is reserved for the unit tests. Do not consider this cell. "
   ]
  },
  {
   "cell_type": "code",
   "execution_count": 125,
   "metadata": {
    "deletable": false,
    "editable": false,
    "nbgrader": {
     "cell_type": "code",
     "checksum": "6182861d466a03354d0d9d8012770ebb",
     "grade": true,
     "grade_id": "cell-06c1af83145bd915",
     "locked": true,
     "points": 3,
     "schema_version": 3,
     "solution": false,
     "task": false
    }
   },
   "outputs": [],
   "source": [
    "# This cell is reserved for the unit tests. Do not consider this cell. "
   ]
  },
  {
   "cell_type": "markdown",
   "metadata": {
    "deletable": false,
    "editable": false,
    "nbgrader": {
     "cell_type": "markdown",
     "checksum": "0457ca57f2449999874c24ca972bb730",
     "grade": false,
     "grade_id": "cell-1ff44efd4023cf8e",
     "locked": true,
     "schema_version": 3,
     "solution": false,
     "task": false
    }
   },
   "source": [
    "## Question 2.4 (7 marks)\n",
    "\n",
    "Make a function `step(X)` that takes in input a grid with an initial configuration of alive cells and returns the grid with the new configuration after having applied the rules of the game:\n",
    "\n",
    "\n",
    "- **Overpopulation:** if a living cell is surrounded by more than three living cells, it dies.\n",
    "- **Stasis:** if a living cell is surrounded by two or three living cells, it survives.\n",
    "- **Underpopulation:** if a living cell is surrounded by fewer than two living cells, it dies.\n",
    "- **Reproduction:** if a dead cell is surrounded by exactly three cells, it becomes a live cell.\n",
    "\n",
    "When you repeatedly apply `step` to the following initial configuration (called a \"glider\") \n",
    "```\n",
    "[[0, 0, 0, 0],\n",
    "[1, 0, 0, 0],\n",
    "[0, 1, 1, 0],\n",
    "[1, 1, 0, 0],\n",
    "[0, 0, 0, 0]]\n",
    "```\n",
    "you should obtain the following result\n",
    "\n",
    "<img src=\"glider.png\" width=300>"
   ]
  },
  {
   "cell_type": "code",
   "execution_count": 137,
   "metadata": {
    "deletable": false,
    "nbgrader": {
     "cell_type": "code",
     "checksum": "f7fb75e673472bed62d32f6d4df55824",
     "grade": false,
     "grade_id": "cell-4124fd988465c51a",
     "locked": false,
     "schema_version": 3,
     "solution": true,
     "task": false
    }
   },
   "outputs": [],
   "source": [
    "# Auxiliary functions\n",
    "\n",
    "def overpopulation(H):\n",
    "    val = H[1,1]\n",
    "    if val == 0:\n",
    "        if H.sum() == 3:\n",
    "            val = 1\n",
    "    else:\n",
    "        if H.sum() > 4:\n",
    "            val = 0\n",
    "        elif 3 <= H.sum() and H.sum() <= 4:\n",
    "            pass\n",
    "        elif H.sum() <= 2:\n",
    "            val = 0\n",
    "    return val\n",
    "    \n",
    "def extract_for_game(X,i,j,s=1):\n",
    "    if i-s<0:\n",
    "        indicesi = range(i,i+(s+1))\n",
    "        indicesj = range(j-s,j+(s+1))\n",
    "        neighbourhood = X.take(indicesj,axis=1,mode='wrap').take(indicesi,axis=0)\n",
    "    elif i+(s+1)>len(X):\n",
    "        indicesi = range(i-s,i+1)\n",
    "        indicesj = range(j-s,j+(s+1))\n",
    "        neighbourhood = X.take(indicesj,axis=1,mode='wrap').take(indicesi,axis=0)\n",
    "    else:\n",
    "        indicesi = range(i-s,i+(s+1))\n",
    "        indicesj = range(j-s,j+(s+1))\n",
    "        neighbourhood = X.take(indicesj,axis=1,mode='wrap').take(indicesi,axis=0)\n",
    "    return neighbourhood\n",
    "\n",
    "def make_initial_configuration_for_game(nrows=40, ncols=40, border_width=10, sparsity=0.8):\n",
    "    A = np.array(np.random.choice(np.arange(2), p=[sparsity,1-sparsity], size=(nrows,ncols)))\n",
    "    if border_width == 0:\n",
    "        A = A\n",
    "    else:\n",
    "        A[0:border_width] = '0'\n",
    "        A[-border_width:] = '0'\n",
    "        A[:,0:border_width] = '0'\n",
    "        A[:,-border_width:] = '0'\n",
    "    return A\n",
    "\n",
    "# Step function\n",
    "\n",
    "def step(X):\n",
    "    X = np.array(X)\n",
    "    Z1 = X.copy()\n",
    "    Z = np.array(Z1)\n",
    "    L = []\n",
    "    for i in range(0,len(X)):\n",
    "        for j in range(0,len(X[0])):\n",
    "            H = extract_for_game(Z1,i,j,1)\n",
    "            end = overpopulation(H)\n",
    "            Z[i][j] = end\n",
    "            Z = Z.tolist()\n",
    "            Z = np.array(Z)\n",
    "    L.append(Z)\n",
    "    L = np.array(L)\n",
    "    return Z"
   ]
  },
  {
   "cell_type": "code",
   "execution_count": null,
   "metadata": {},
   "outputs": [],
   "source": []
  },
  {
   "cell_type": "code",
   "execution_count": null,
   "metadata": {},
   "outputs": [],
   "source": []
  },
  {
   "cell_type": "code",
   "execution_count": 138,
   "metadata": {
    "deletable": false,
    "editable": false,
    "nbgrader": {
     "cell_type": "code",
     "checksum": "a4190cc9a363ddf279bd5b20401b9c2b",
     "grade": true,
     "grade_id": "cell-04079912bbe0ac96",
     "locked": true,
     "points": 7,
     "schema_version": 3,
     "solution": false,
     "task": false
    }
   },
   "outputs": [],
   "source": [
    "# This cell is reserved for the unit tests. Do not consider this cell. "
   ]
  },
  {
   "cell_type": "markdown",
   "metadata": {
    "deletable": false,
    "editable": false,
    "nbgrader": {
     "cell_type": "markdown",
     "checksum": "b06f6ebf09695684ebd4774de5b46b6b",
     "grade": false,
     "grade_id": "cell-f627cb54b465f867",
     "locked": true,
     "schema_version": 3,
     "solution": false,
     "task": false
    }
   },
   "source": [
    "## Question 2.5 (4 marks)\n",
    "\n",
    "Make a function `conway_game(X, n_steps)` that applies the rules for the number of steps indicated in `n_steps` to the initial configuration `X` and returns the final configuration. The function should also plot the intermediate steps using the previously defined function `plot_list`, using a default of 5 grids per row."
   ]
  },
  {
   "cell_type": "code",
   "execution_count": 155,
   "metadata": {
    "deletable": false,
    "nbgrader": {
     "cell_type": "code",
     "checksum": "6d26715cc71d08ec8e4e4e72f63cc42f",
     "grade": false,
     "grade_id": "cell-17c021b0a795431a",
     "locked": false,
     "schema_version": 3,
     "solution": true,
     "task": false
    }
   },
   "outputs": [],
   "source": [
    "def conway_game(X, n_steps):\n",
    "    C = []\n",
    "    for i in range(0,n_steps+1):\n",
    "        C.append(X)\n",
    "        new_X = step(X)\n",
    "        X = new_X\n",
    "    plot_list(C)\n",
    "    return C[n_steps-1]"
   ]
  },
  {
   "cell_type": "code",
   "execution_count": 156,
   "metadata": {
    "deletable": false,
    "nbgrader": {
     "cell_type": "code",
     "checksum": "04e131f7ccf7980ac197d2ddd70a7230",
     "grade": true,
     "grade_id": "cell-f759e6ee95317239",
     "locked": false,
     "points": 4,
     "schema_version": 3,
     "solution": true,
     "task": false
    }
   },
   "outputs": [
    {
     "data": {
      "image/png": "[encoded data removed]",
      "text/plain": [
       "<Figure size 1080x1296 with 30 Axes>"
      ]
     },
     "metadata": {
      "needs_background": "light"
     },
     "output_type": "display_data"
    }
   ],
   "source": [
    "# Create an initial grid configuration X of size 15x15 with a border of 3 and a sparsity of 0.7\n",
    "\n",
    "X = make_initial_configuration_for_game(nrows=15, ncols=15, border_width=3, sparsity=0.7)\n",
    "\n",
    "\n",
    "# leave the following function call as it is, as its output is going to be judged in the evaluation\n",
    "X = conway_game(X, n_steps=5*6-1)"
   ]
  },
  {
   "cell_type": "markdown",
   "metadata": {
    "deletable": false,
    "editable": false,
    "nbgrader": {
     "cell_type": "markdown",
     "checksum": "59896da6db2c354a2df4447b1277b6a7",
     "grade": false,
     "grade_id": "cell-88c9f4601ebe22ec",
     "locked": true,
     "schema_version": 3,
     "solution": false,
     "task": false
    }
   },
   "source": [
    "# Part 3 (30 marks)\n",
    "\n",
    "**Aim:** Show competence in using the `pandas` library when managing time series.\n",
    "\n",
    "In this exercise you are asked to retrieve real world financial data and perform a series of manipulations on the resulting time series. \n",
    "\n",
    "You will consider two signals: the Dow Jones and the Nasdaq:\n",
    "- The Dow Jones Industrial Average is a stock market index that measures the stock performance of 30 large companies listed on stock exchanges in the United States\n",
    "- The NASDAQ-100 is a stock market index made up of 103 equity securities issued by 100 of the largest non-financial companies listed on the Nasdaq stock market\n",
    "\n",
    "To work on these exercises you need to install the additional library `pandas_datareader` (e.g. by doing `pip install pandas_datareader`). \n",
    "\n",
    "Make sure each function that you create operates on a copy of the input dataframe and not on the dataframe itself."
   ]
  },
  {
   "cell_type": "markdown",
   "metadata": {
    "deletable": false,
    "editable": false,
    "nbgrader": {
     "cell_type": "markdown",
     "checksum": "d73698b3ca6903af6339a956072ce1f4",
     "grade": false,
     "grade_id": "cell-cd0bde19315c8af9",
     "locked": true,
     "schema_version": 3,
     "solution": false,
     "task": false
    }
   },
   "source": [
    "## Question 3.1 (3 marks)\n",
    "\n",
    "Make a function `make_data()` that returns a single data frame containing the signals for both the Dow Jones (symbol `DJIA`) and the Nasdaq (symbol `NASDAQ100`), for a period starting in 2001 until the first of August 2020.\n",
    "\n",
    "You should obtain a data frame that once plotted should look like this:\n",
    "\n",
    "<img src=\"data.png\" width=400>"
   ]
  },
  {
   "cell_type": "code",
   "execution_count": 8,
   "metadata": {
    "deletable": false,
    "nbgrader": {
     "cell_type": "code",
     "checksum": "1ac77e99e760a04149b299e89fcbe5bc",
     "grade": false,
     "grade_id": "cell-c0bf9a388a150f17",
     "locked": false,
     "schema_version": 3,
     "solution": true,
     "task": false
    }
   },
   "outputs": [],
   "source": [
    "import pandas_datareader as pdr\n",
    "\n",
    "def make_data():\n",
    "    df = pdr.get_data_fred('NASDAQ100', start = '2001', end = '2020-08-01')\n",
    "    df2 = pdr.get_data_fred('DJIA', start = '2001', end = '2020-08-01')\n",
    "    df['DJIA'] = df2\n",
    "    return df\n",
    "\n",
    "df = make_data()"
   ]
  },
  {
   "cell_type": "code",
   "execution_count": 9,
   "metadata": {
    "deletable": false,
    "editable": false,
    "nbgrader": {
     "cell_type": "code",
     "checksum": "01fc6b278b5af0dc33ca5cc972c6ebd7",
     "grade": true,
     "grade_id": "cell-af65786919f613f1",
     "locked": true,
     "points": 3,
     "schema_version": 3,
     "solution": false,
     "task": false
    }
   },
   "outputs": [],
   "source": [
    "# This cell is reserved for the unit tests. Do not consider this cell. "
   ]
  },
  {
   "cell_type": "markdown",
   "metadata": {
    "deletable": false,
    "editable": false,
    "nbgrader": {
     "cell_type": "markdown",
     "checksum": "6c544e5bbf50ad656419939075da291a",
     "grade": false,
     "grade_id": "cell-fed56e1b2bd06b0e",
     "locked": true,
     "schema_version": 3,
     "solution": false,
     "task": false
    }
   },
   "source": [
    "## Question 3.2 (3 marks)\n",
    "\n",
    "Make a function `remove_missing(df)` that returns a data frame where any record from the input data frame `df` that contains at least one missing value is removed."
   ]
  },
  {
   "cell_type": "code",
   "execution_count": 10,
   "metadata": {
    "deletable": false,
    "nbgrader": {
     "cell_type": "code",
     "checksum": "e291bf55603b170ec4791d4de270238e",
     "grade": false,
     "grade_id": "cell-7b92e25ee6d4c9f3",
     "locked": false,
     "schema_version": 3,
     "solution": true,
     "task": false
    }
   },
   "outputs": [],
   "source": [
    "def remove_missing(df):\n",
    "    df2 = df.copy()\n",
    "    df2 = df.dropna(axis=0)\n",
    "    return df2"
   ]
  },
  {
   "cell_type": "code",
   "execution_count": 11,
   "metadata": {
    "deletable": false,
    "editable": false,
    "nbgrader": {
     "cell_type": "code",
     "checksum": "15611a22d2d25012bd73869febe2173b",
     "grade": true,
     "grade_id": "cell-f768827fa42b5bcc",
     "locked": true,
     "points": 3,
     "schema_version": 3,
     "solution": false,
     "task": false
    }
   },
   "outputs": [],
   "source": [
    "# This cell is reserved for the unit tests. Do not consider this cell. "
   ]
  },
  {
   "cell_type": "markdown",
   "metadata": {
    "deletable": false,
    "editable": false,
    "nbgrader": {
     "cell_type": "markdown",
     "checksum": "a6ff084c5f6d92b54accb54ce9222967",
     "grade": false,
     "grade_id": "cell-44bf20dbf2ee9dbb",
     "locked": true,
     "schema_version": 3,
     "solution": false,
     "task": false
    }
   },
   "source": [
    "## Question 3.3 (5 marks)\n",
    "\n",
    "Make a function `make_coarser(df)` that returns a data frame containing the average of values in seven day intervals."
   ]
  },
  {
   "cell_type": "code",
   "execution_count": 12,
   "metadata": {
    "deletable": false,
    "nbgrader": {
     "cell_type": "code",
     "checksum": "88fc2b8c794ce9a81433dd2350432d43",
     "grade": false,
     "grade_id": "cell-bd364762ffc68cde",
     "locked": false,
     "schema_version": 3,
     "solution": true,
     "task": false
    }
   },
   "outputs": [],
   "source": [
    "def make_coarser(df):\n",
    "    df2 = df.copy()\n",
    "    df3 = df2.resample('W').mean()\n",
    "    return df3"
   ]
  },
  {
   "cell_type": "code",
   "execution_count": 13,
   "metadata": {
    "deletable": false,
    "editable": false,
    "nbgrader": {
     "cell_type": "code",
     "checksum": "59196915c5b28473dbecf185d33e0903",
     "grade": true,
     "grade_id": "cell-a8bd8134e97886ef",
     "locked": true,
     "points": 5,
     "schema_version": 3,
     "solution": false,
     "task": false
    }
   },
   "outputs": [],
   "source": [
    "# This cell is reserved for the unit tests. Do not consider this cell. "
   ]
  },
  {
   "cell_type": "markdown",
   "metadata": {
    "deletable": false,
    "editable": false,
    "nbgrader": {
     "cell_type": "markdown",
     "checksum": "0d13937a67ee05987d08e692b9232bef",
     "grade": false,
     "grade_id": "cell-4388c90a6d0b9a48",
     "locked": true,
     "schema_version": 3,
     "solution": false,
     "task": false
    }
   },
   "source": [
    "## Question 3.4 (5 marks)\n",
    "\n",
    "Make a function `adjust(df)` that standardizes and offsets the signals in the data frame `df` as follows: \n",
    "- The standardization transformation needs to change the data to have a mean of zero and a standard deviation of 1. \n",
    "- The offset needs to add a single constant value to the data so that the minimum value in any of the columns of the data frame will be 1."
   ]
  },
  {
   "cell_type": "code",
   "execution_count": 14,
   "metadata": {
    "deletable": false,
    "nbgrader": {
     "cell_type": "code",
     "checksum": "eff32bc870f4f45351298269ef249468",
     "grade": false,
     "grade_id": "cell-bfb6705be5eb3861",
     "locked": false,
     "schema_version": 3,
     "solution": true,
     "task": false
    }
   },
   "outputs": [],
   "source": [
    "def adjust(df):\n",
    "    normalized_df=(df-df.mean())/df.std()\n",
    "    constant = abs(normalized_df.min()[1])\n",
    "    print(constant)\n",
    "    normalized_df['NASDAQ100'] += constant + 1\n",
    "    normalized_df['DHIA'] += constant + 1\n",
    "    return normalized_df"
   ]
  },
  {
   "cell_type": "code",
   "execution_count": 15,
   "metadata": {
    "deletable": false,
    "editable": false,
    "nbgrader": {
     "cell_type": "code",
     "checksum": "17ca4cf1aceb76fc7ea9fdc3e4dc95e7",
     "grade": true,
     "grade_id": "cell-e516db8019a0206f",
     "locked": true,
     "points": 5,
     "schema_version": 3,
     "solution": false,
     "task": false
    }
   },
   "outputs": [],
   "source": [
    "# This cell is reserved for the unit tests. Do not consider this cell. "
   ]
  },
  {
   "cell_type": "markdown",
   "metadata": {
    "deletable": false,
    "editable": false,
    "nbgrader": {
     "cell_type": "markdown",
     "checksum": "3e27c5d5d25f85b022604c1e3f344cea",
     "grade": false,
     "grade_id": "cell-a4d498eee1950eb3",
     "locked": true,
     "schema_version": 3,
     "solution": false,
     "task": false
    }
   },
   "source": [
    "## Question 3.5 (4 marks)\n",
    "\n",
    "Make a function `smooth_ratio(df, col1, col2, window, std)` that takes in input a dataframe `df`, the label of two of its columns, a `window` parameter and a `std` parameter. \n",
    "\n",
    "The function should smooth the time series values using a moving window average. The window should be centered and have a width expressed by the `window` parameter. The average should be weighted using a Gaussian weighting scheme with standard deviation expressed by the `std` parameter.\n",
    "\n",
    "Once the moving average has been computed for all columns in `df`, the function should return a Series containing the ratio between the smoothed values in `col1` over the smoothed values in `col2`."
   ]
  },
  {
   "cell_type": "code",
   "execution_count": 16,
   "metadata": {},
   "outputs": [
    {
     "data": {
      "text/html": [
       "<div>\n",
       "<style scoped>\n",
       "    .dataframe tbody tr th:only-of-type {\n",
       "        vertical-align: middle;\n",
       "    }\n",
       "\n",
       "    .dataframe tbody tr th {\n",
       "        vertical-align: top;\n",
       "    }\n",
       "\n",
       "    .dataframe thead th {\n",
       "        text-align: right;\n",
       "    }\n",
       "</style>\n",
       "<table border=\"1\" class=\"dataframe\">\n",
       "  <thead>\n",
       "    <tr style=\"text-align: right;\">\n",
       "      <th></th>\n",
       "      <th>NASDAQ100</th>\n",
       "      <th>DJIA</th>\n",
       "    </tr>\n",
       "    <tr>\n",
       "      <th>DATE</th>\n",
       "      <th></th>\n",
       "      <th></th>\n",
       "    </tr>\n",
       "  </thead>\n",
       "  <tbody>\n",
       "    <tr>\n",
       "      <th>2001-01-01</th>\n",
       "      <td>2341.70</td>\n",
       "      <td>NaN</td>\n",
       "    </tr>\n",
       "    <tr>\n",
       "      <th>2001-01-02</th>\n",
       "      <td>2128.78</td>\n",
       "      <td>NaN</td>\n",
       "    </tr>\n",
       "    <tr>\n",
       "      <th>2001-01-03</th>\n",
       "      <td>2528.38</td>\n",
       "      <td>NaN</td>\n",
       "    </tr>\n",
       "    <tr>\n",
       "      <th>2001-01-04</th>\n",
       "      <td>2460.04</td>\n",
       "      <td>NaN</td>\n",
       "    </tr>\n",
       "    <tr>\n",
       "      <th>2001-01-05</th>\n",
       "      <td>2267.85</td>\n",
       "      <td>NaN</td>\n",
       "    </tr>\n",
       "  </tbody>\n",
       "</table>\n",
       "</div>"
      ],
      "text/plain": [
       "            NASDAQ100  DJIA\n",
       "DATE                       \n",
       "2001-01-01    2341.70   NaN\n",
       "2001-01-02    2128.78   NaN\n",
       "2001-01-03    2528.38   NaN\n",
       "2001-01-04    2460.04   NaN\n",
       "2001-01-05    2267.85   NaN"
      ]
     },
     "execution_count": 16,
     "metadata": {},
     "output_type": "execute_result"
    }
   ],
   "source": [
    "df.head()"
   ]
  },
  {
   "cell_type": "code",
   "execution_count": 17,
   "metadata": {
    "deletable": false,
    "nbgrader": {
     "cell_type": "code",
     "checksum": "36836d65287b476aa7971afebaab57ec",
     "grade": false,
     "grade_id": "cell-c9520684898cfce6",
     "locked": false,
     "schema_version": 3,
     "solution": true,
     "task": false
    }
   },
   "outputs": [],
   "source": [
    "def smooth_ratio(df, col1, col2, window, std):\n",
    "    smooth_1 = df[col1].rolling(window=window, center=True, win_type='gaussian').mean(std=std)\n",
    "    smooth_2 = df[col2].rolling(window=window, center=True, win_type='gaussian').mean(std=std)\n",
    "    ratio = smooth_1/smooth_2\n",
    "    return ratio"
   ]
  },
  {
   "cell_type": "code",
   "execution_count": 18,
   "metadata": {
    "deletable": false,
    "editable": false,
    "nbgrader": {
     "cell_type": "code",
     "checksum": "01299e9362f8a5481620a5e4e4dd54d8",
     "grade": true,
     "grade_id": "cell-a68e2493d64c002f",
     "locked": true,
     "points": 4,
     "schema_version": 3,
     "solution": false,
     "task": false
    }
   },
   "outputs": [],
   "source": [
    "# This cell is reserved for the unit tests. Do not consider this cell. "
   ]
  },
  {
   "cell_type": "markdown",
   "metadata": {
    "deletable": false,
    "editable": false,
    "nbgrader": {
     "cell_type": "markdown",
     "checksum": "43dcdc4bde398bd765a73e863a237191",
     "grade": false,
     "grade_id": "cell-eb6d20e6f95c570d",
     "locked": true,
     "schema_version": 3,
     "solution": false,
     "task": false
    }
   },
   "source": [
    "## Question 3.6 (10 marks)\n",
    "\n",
    "Make a function `find_intervals(s, threshold)` that receives in input a Series `s` and a threshold value. \n",
    "\n",
    "Find the contigous periods when the signal is above the given threshold. \n",
    "\n",
    "The function should return a Series that has as index the start date for each contigous period and has as associated value the period length expressed in number of days. The result should be sorted in descending order of period length. \n",
    "\n",
    "When applied to a signal such as this (orange line with thershold=0):\n",
    "<img src='upper.png' width=300>\n",
    "it should return the following Series:\n",
    "```\n",
    "70     35\n",
    "140    35\n",
    "1      34\n",
    "Name: interval, dtype: int64\n",
    "```\n",
    "that is, the largest interval is of 35 units and it starts at label 70, then there is another interval of length 35 taht start at 140, etc. In the exercise the index will be a date and the length of the interval is expressed in days. "
   ]
  },
  {
   "cell_type": "code",
   "execution_count": 109,
   "metadata": {
    "deletable": false,
    "nbgrader": {
     "cell_type": "code",
     "checksum": "e10d407003fb08f9ae798491f309a70d",
     "grade": false,
     "grade_id": "cell-b6d58911971ecb34",
     "locked": false,
     "schema_version": 3,
     "solution": true,
     "task": false
    }
   },
   "outputs": [],
   "source": [
    "def find_intervals(s, threshold):\n",
    "    d = s.copy()\n",
    "    h = pd.DataFrame(d)\n",
    "    h['Over_Threshold'] = h>threshold\n",
    "\n",
    "    groups = (h.Over_Threshold != h.Over_Threshold.shift()).cumsum()\n",
    "    groups = groups[h.Over_Threshold != False]\n",
    "\n",
    "    frame = pd.Series(data=pd.Index(groups.groupby(groups.values).apply(lambda x: (x.count())).values), \n",
    "                      index = pd.Index(groups.groupby(groups.values).apply(lambda x: (x.index[0])).values)).sort_values(ascending=False)\n",
    "    return frame"
   ]
  },
  {
   "cell_type": "code",
   "execution_count": 304,
   "metadata": {
    "deletable": false,
    "editable": false,
    "nbgrader": {
     "cell_type": "code",
     "checksum": "ae338be581c5bb74e232cc3c4007ac18",
     "grade": true,
     "grade_id": "cell-df3a48dcc5e53a9e",
     "locked": true,
     "points": 5,
     "schema_version": 3,
     "solution": false,
     "task": false
    }
   },
   "outputs": [],
   "source": [
    "# This cell is reserved for the unit tests. Do not consider this cell. "
   ]
  },
  {
   "cell_type": "code",
   "execution_count": null,
   "metadata": {
    "deletable": false,
    "editable": false,
    "nbgrader": {
     "cell_type": "code",
     "checksum": "74f16c0ff03a7a8189cf044ceac2aff1",
     "grade": true,
     "grade_id": "cell-88654d2c6c2e3794",
     "locked": true,
     "points": 5,
     "schema_version": 3,
     "solution": false,
     "task": false
    }
   },
   "outputs": [],
   "source": [
    "# This cell is reserved for the unit tests. Do not consider this cell. "
   ]
  }
 ],
 "metadata": {
  "kernelspec": {
   "display_name": "Python 3",
   "language": "python",
   "name": "python3"
  },
  "language_info": {
   "codemirror_mode": {
    "name": "ipython",
    "version": 3
   },
   "file_extension": ".py",
   "mimetype": "text/x-python",
   "name": "python",
   "nbconvert_exporter": "python",
   "pygments_lexer": "ipython3",
   "version": "3.8.3"
  }
 },
 "nbformat": 4,
 "nbformat_minor": 4
}
